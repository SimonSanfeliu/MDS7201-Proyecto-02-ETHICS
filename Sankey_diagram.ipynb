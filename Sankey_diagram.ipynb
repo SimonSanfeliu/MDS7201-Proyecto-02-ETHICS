{
 "cells": [
  {
   "cell_type": "code",
   "execution_count": 6,
   "id": "f375c241",
   "metadata": {},
   "outputs": [
    {
     "data": {
      "text/html": [
       "<div>\n",
       "<style scoped>\n",
       "    .dataframe tbody tr th:only-of-type {\n",
       "        vertical-align: middle;\n",
       "    }\n",
       "\n",
       "    .dataframe tbody tr th {\n",
       "        vertical-align: top;\n",
       "    }\n",
       "\n",
       "    .dataframe thead th {\n",
       "        text-align: right;\n",
       "    }\n",
       "</style>\n",
       "<table border=\"1\" class=\"dataframe\">\n",
       "  <thead>\n",
       "    <tr style=\"text-align: right;\">\n",
       "      <th></th>\n",
       "      <th>gender</th>\n",
       "      <th>sel_Ind1</th>\n",
       "      <th>sel_Grup</th>\n",
       "      <th>sel_Ind2</th>\n",
       "      <th>comment_Ind1</th>\n",
       "      <th>comment_Grup</th>\n",
       "      <th>comment_Ind2</th>\n",
       "      <th>summary</th>\n",
       "    </tr>\n",
       "  </thead>\n",
       "  <tbody>\n",
       "    <tr>\n",
       "      <th>0</th>\n",
       "      <td>M</td>\n",
       "      <td>6</td>\n",
       "      <td>3</td>\n",
       "      <td>6</td>\n",
       "      <td>aquí entregando probabilidad da opción pacient...</td>\n",
       "      <td>elegimos 3 así mantenían neutralidad respecto ...</td>\n",
       "      <td>sigo pensando explicarividad ser importante al...</td>\n",
       "      <td>alo hola hola holaa q procede</td>\n",
       "    </tr>\n",
       "    <tr>\n",
       "      <th>1</th>\n",
       "      <td>M</td>\n",
       "      <td>2</td>\n",
       "      <td>2</td>\n",
       "      <td>2</td>\n",
       "      <td>aunque paciente derecho saber diagnóstico si i...</td>\n",
       "      <td>preferible mayor exactitud mayor explicabilida...</td>\n",
       "      <td>preferible mayor exactitud mayor explicabilida...</td>\n",
       "      <td>wenas holis 2</td>\n",
       "    </tr>\n",
       "    <tr>\n",
       "      <th>2</th>\n",
       "      <td>M</td>\n",
       "      <td>5</td>\n",
       "      <td>3</td>\n",
       "      <td>3</td>\n",
       "      <td>pienso importante paciente sepa manera detecto...</td>\n",
       "      <td>inicialmente habia puesto 5 ahora cambiaria 3 ...</td>\n",
       "      <td>caso postura cambio si bien importante pacient...</td>\n",
       "      <td>ola hola aloo saludos cordiales compañeros 4</td>\n",
       "    </tr>\n",
       "    <tr>\n",
       "      <th>3</th>\n",
       "      <td>M</td>\n",
       "      <td>5</td>\n",
       "      <td>3</td>\n",
       "      <td>4</td>\n",
       "      <td>algoritmo z menor exactitud mayor explicabilid...</td>\n",
       "      <td>importante si alguien acude programa detecte e...</td>\n",
       "      <td>finalmente tomando discusión anterior postura ...</td>\n",
       "      <td>holaa holaa holaa hola</td>\n",
       "    </tr>\n",
       "    <tr>\n",
       "      <th>4</th>\n",
       "      <td>M</td>\n",
       "      <td>3</td>\n",
       "      <td>4</td>\n",
       "      <td>4</td>\n",
       "      <td>deberia elegir algoritmo w algoritmo z princip...</td>\n",
       "      <td>grupo consenso llegamos alternativa 4 debido a...</td>\n",
       "      <td>pregunta cambio decisión numero 4 conversamos ...</td>\n",
       "      <td>holaa holaa holaaa wenaaa hola</td>\n",
       "    </tr>\n",
       "    <tr>\n",
       "      <th>...</th>\n",
       "      <td>...</td>\n",
       "      <td>...</td>\n",
       "      <td>...</td>\n",
       "      <td>...</td>\n",
       "      <td>...</td>\n",
       "      <td>...</td>\n",
       "      <td>...</td>\n",
       "      <td>...</td>\n",
       "    </tr>\n",
       "    <tr>\n",
       "      <th>494</th>\n",
       "      <td>M</td>\n",
       "      <td>1</td>\n",
       "      <td>3</td>\n",
       "      <td>2</td>\n",
       "      <td>mejor diga exactitud enfermedad diga verdad si...</td>\n",
       "      <td>mayor exactitud podria saber si alguien enferm...</td>\n",
       "      <td>cambie postura punto si bien mas importante ge...</td>\n",
       "      <td>q chat hola puse dos 1</td>\n",
       "    </tr>\n",
       "    <tr>\n",
       "      <th>495</th>\n",
       "      <td>F</td>\n",
       "      <td>3</td>\n",
       "      <td>3</td>\n",
       "      <td>3</td>\n",
       "      <td>si bien necesaria explicabilidad pues dice ext...</td>\n",
       "      <td>creo debería escoger algoritmo w pues razonó a...</td>\n",
       "      <td>pregunta concordamos misma valoración debería ...</td>\n",
       "      <td>ª creo deberíamos elegir algoritmo x w  olas</td>\n",
       "    </tr>\n",
       "    <tr>\n",
       "      <th>496</th>\n",
       "      <td>M</td>\n",
       "      <td>2</td>\n",
       "      <td>2</td>\n",
       "      <td>2</td>\n",
       "      <td>ahora creo igualmente algoritmo posea mayor ex...</td>\n",
       "      <td>creemos tener alta exactitud pasaria segundo p...</td>\n",
       "      <td>aquí varios misma postura excepto compañero cr...</td>\n",
       "      <td>buenas buenas lel parecer primera pondria punt...</td>\n",
       "    </tr>\n",
       "    <tr>\n",
       "      <th>497</th>\n",
       "      <td>F</td>\n",
       "      <td>2</td>\n",
       "      <td>3</td>\n",
       "      <td>2</td>\n",
       "      <td>pues si aunque necesario saber ocurriendo si f...</td>\n",
       "      <td>si bien w capacitado explicar asegura funciona...</td>\n",
       "      <td>misma postura principio decir mientras certeza...</td>\n",
       "      <td>hola hola oal ando calle</td>\n",
       "    </tr>\n",
       "    <tr>\n",
       "      <th>498</th>\n",
       "      <td>F</td>\n",
       "      <td>4</td>\n",
       "      <td>4</td>\n",
       "      <td>4</td>\n",
       "      <td>si exactitud puede salvar vidas bueno corto pl...</td>\n",
       "      <td>mayor explicabilidad daría posibilidad futuro ...</td>\n",
       "      <td>mantengo postura mayor consenso discusión pues...</td>\n",
       "      <td>holi holaa holaa ola</td>\n",
       "    </tr>\n",
       "  </tbody>\n",
       "</table>\n",
       "<p>499 rows × 8 columns</p>\n",
       "</div>"
      ],
      "text/plain": [
       "    gender  sel_Ind1  sel_Grup  sel_Ind2  \\\n",
       "0        M         6         3         6   \n",
       "1        M         2         2         2   \n",
       "2        M         5         3         3   \n",
       "3        M         5         3         4   \n",
       "4        M         3         4         4   \n",
       "..     ...       ...       ...       ...   \n",
       "494      M         1         3         2   \n",
       "495      F         3         3         3   \n",
       "496      M         2         2         2   \n",
       "497      F         2         3         2   \n",
       "498      F         4         4         4   \n",
       "\n",
       "                                          comment_Ind1  \\\n",
       "0    aquí entregando probabilidad da opción pacient...   \n",
       "1    aunque paciente derecho saber diagnóstico si i...   \n",
       "2    pienso importante paciente sepa manera detecto...   \n",
       "3    algoritmo z menor exactitud mayor explicabilid...   \n",
       "4    deberia elegir algoritmo w algoritmo z princip...   \n",
       "..                                                 ...   \n",
       "494  mejor diga exactitud enfermedad diga verdad si...   \n",
       "495  si bien necesaria explicabilidad pues dice ext...   \n",
       "496  ahora creo igualmente algoritmo posea mayor ex...   \n",
       "497  pues si aunque necesario saber ocurriendo si f...   \n",
       "498  si exactitud puede salvar vidas bueno corto pl...   \n",
       "\n",
       "                                          comment_Grup  \\\n",
       "0    elegimos 3 así mantenían neutralidad respecto ...   \n",
       "1    preferible mayor exactitud mayor explicabilida...   \n",
       "2    inicialmente habia puesto 5 ahora cambiaria 3 ...   \n",
       "3    importante si alguien acude programa detecte e...   \n",
       "4    grupo consenso llegamos alternativa 4 debido a...   \n",
       "..                                                 ...   \n",
       "494  mayor exactitud podria saber si alguien enferm...   \n",
       "495  creo debería escoger algoritmo w pues razonó a...   \n",
       "496  creemos tener alta exactitud pasaria segundo p...   \n",
       "497  si bien w capacitado explicar asegura funciona...   \n",
       "498  mayor explicabilidad daría posibilidad futuro ...   \n",
       "\n",
       "                                          comment_Ind2  \\\n",
       "0    sigo pensando explicarividad ser importante al...   \n",
       "1    preferible mayor exactitud mayor explicabilida...   \n",
       "2    caso postura cambio si bien importante pacient...   \n",
       "3    finalmente tomando discusión anterior postura ...   \n",
       "4    pregunta cambio decisión numero 4 conversamos ...   \n",
       "..                                                 ...   \n",
       "494  cambie postura punto si bien mas importante ge...   \n",
       "495  pregunta concordamos misma valoración debería ...   \n",
       "496  aquí varios misma postura excepto compañero cr...   \n",
       "497  misma postura principio decir mientras certeza...   \n",
       "498  mantengo postura mayor consenso discusión pues...   \n",
       "\n",
       "                                               summary  \n",
       "0                        alo hola hola holaa q procede  \n",
       "1                                        wenas holis 2  \n",
       "2         ola hola aloo saludos cordiales compañeros 4  \n",
       "3                               holaa holaa holaa hola  \n",
       "4                       holaa holaa holaaa wenaaa hola  \n",
       "..                                                 ...  \n",
       "494                             q chat hola puse dos 1  \n",
       "495       ª creo deberíamos elegir algoritmo x w  olas  \n",
       "496  buenas buenas lel parecer primera pondria punt...  \n",
       "497                           hola hola oal ando calle  \n",
       "498                               holi holaa holaa ola  \n",
       "\n",
       "[499 rows x 8 columns]"
      ]
     },
     "execution_count": 6,
     "metadata": {},
     "output_type": "execute_result"
    }
   ],
   "source": [
    "# Descargando el dataset limpio\n",
    "import pandas as pd\n",
    "import plotly.graph_objects as go\n",
    "\n",
    "# Agregando caso\n",
    "caso = 'amanda'\n",
    "\n",
    "dataset = pd.read_csv(f'dataset_{caso}_2.csv')\n",
    "dataset"
   ]
  },
  {
   "cell_type": "code",
   "execution_count": 7,
   "id": "0844a6ef",
   "metadata": {},
   "outputs": [],
   "source": [
    "# Separando las direcciones de las selecciones vía diccionarios\n",
    "sel_Ind1_to_sel_Grup = {}  # Ind1 a Grup\n",
    "for index, row in dataset.iterrows():\n",
    "    (i, j) = (row['sel_Ind1'], row['sel_Grup'])\n",
    "    if f'{i}-{j}' in sel_Ind1_to_sel_Grup.keys():\n",
    "        sel_Ind1_to_sel_Grup[f'{i}-{j}'] += 1\n",
    "    else: \n",
    "        sel_Ind1_to_sel_Grup[f'{i}-{j}'] = 1\n",
    "        \n",
    "sel_Grup_to_sel_Ind2 = {}  # Grup a Ind2\n",
    "for index, row in dataset.iterrows():\n",
    "    (i, j) = (row['sel_Grup'], row['sel_Ind2'])\n",
    "    if f'{i}-{j}' in sel_Grup_to_sel_Ind2.keys():\n",
    "        sel_Grup_to_sel_Ind2[f'{i}-{j}'] += 1\n",
    "    else: \n",
    "        sel_Grup_to_sel_Ind2[f'{i}-{j}'] = 1"
   ]
  },
  {
   "cell_type": "code",
   "execution_count": 8,
   "id": "85cd183b",
   "metadata": {},
   "outputs": [],
   "source": [
    "# Función para transformar el índice en las llaves de los diccionarios\n",
    "def transform(i, j):\n",
    "    return 6*(int(i)-1)+(int(j)-1)"
   ]
  },
  {
   "cell_type": "code",
   "execution_count": 9,
   "id": "488a2728",
   "metadata": {},
   "outputs": [],
   "source": [
    "# Generando los scores para el gráfico\n",
    "scores = [0] * 72  # 72 combinaciones posibles\n",
    "\n",
    "for ij, value in sel_Ind1_to_sel_Grup.items():\n",
    "    i, j = ij[0], ij[2]\n",
    "    index = transform(i, j)\n",
    "    scores[index] = value\n",
    "\n",
    "for ij, value in sel_Grup_to_sel_Ind2.items():\n",
    "    i, j = ij[0], ij[2]\n",
    "    index = transform(i, j) + 36\n",
    "    scores[index] = value\n",
    "    \n",
    "#scores = [0 if number < 15 else number for number in scores]"
   ]
  },
  {
   "cell_type": "code",
   "execution_count": 10,
   "id": "20ef139f",
   "metadata": {},
   "outputs": [
    {
     "data": {
      "application/vnd.plotly.v1+json": {
       "config": {
        "plotlyServerURL": "https://plot.ly"
       },
       "data": [
        {
         "link": {
          "source": [
           0,
           0,
           0,
           0,
           0,
           0,
           1,
           1,
           1,
           1,
           1,
           1,
           2,
           2,
           2,
           2,
           2,
           2,
           3,
           3,
           3,
           3,
           3,
           3,
           4,
           4,
           4,
           4,
           4,
           4,
           5,
           5,
           5,
           5,
           5,
           5,
           6,
           6,
           6,
           6,
           6,
           6,
           7,
           7,
           7,
           7,
           7,
           7,
           8,
           8,
           8,
           8,
           8,
           8,
           9,
           9,
           9,
           9,
           9,
           9,
           10,
           10,
           10,
           10,
           10,
           10,
           11,
           11,
           11,
           11,
           11,
           11
          ],
          "target": [
           6,
           7,
           8,
           9,
           10,
           11,
           6,
           7,
           8,
           9,
           10,
           11,
           6,
           7,
           8,
           9,
           10,
           11,
           6,
           7,
           8,
           9,
           10,
           11,
           6,
           7,
           8,
           9,
           10,
           11,
           6,
           7,
           8,
           9,
           10,
           11,
           12,
           13,
           14,
           15,
           16,
           17,
           12,
           13,
           14,
           15,
           16,
           17,
           12,
           13,
           14,
           15,
           16,
           17,
           12,
           13,
           14,
           15,
           16,
           17,
           12,
           13,
           14,
           15,
           16,
           17,
           12,
           13,
           14,
           15,
           16,
           17
          ],
          "value": [
           35,
           54,
           28,
           6,
           0,
           1,
           10,
           66,
           45,
           16,
           1,
           2,
           4,
           38,
           39,
           10,
           1,
           2,
           1,
           15,
           18,
           16,
           3,
           0,
           4,
           12,
           17,
           13,
           4,
           0,
           3,
           5,
           12,
           12,
           0,
           6,
           47,
           8,
           1,
           1,
           0,
           0,
           22,
           129,
           25,
           10,
           3,
           1,
           11,
           35,
           89,
           17,
           2,
           5,
           3,
           3,
           11,
           43,
           10,
           3,
           0,
           0,
           2,
           0,
           7,
           0,
           0,
           0,
           1,
           1,
           0,
           9
          ]
         },
         "node": {
          "label": [
           "Sel 1",
           "Sel 2",
           "Sel 3",
           "Sel 4",
           "Sel 5",
           "Sel 6",
           "Sel 1",
           "Sel 2",
           "Sel 3",
           "Sel 4",
           "Sel 5",
           "Sel 6",
           "Sel 1",
           "Sel 2",
           "Sel 3",
           "Sel 4",
           "Sel 5",
           "Sel 6"
          ],
          "line": {
           "color": "black",
           "width": 1
          },
          "pad": 25,
          "thickness": 25
         },
         "type": "sankey"
        }
       ],
       "layout": {
        "font": {
         "size": 20
        },
        "height": 1000,
        "template": {
         "data": {
          "bar": [
           {
            "error_x": {
             "color": "#2a3f5f"
            },
            "error_y": {
             "color": "#2a3f5f"
            },
            "marker": {
             "line": {
              "color": "#E5ECF6",
              "width": 0.5
             },
             "pattern": {
              "fillmode": "overlay",
              "size": 10,
              "solidity": 0.2
             }
            },
            "type": "bar"
           }
          ],
          "barpolar": [
           {
            "marker": {
             "line": {
              "color": "#E5ECF6",
              "width": 0.5
             },
             "pattern": {
              "fillmode": "overlay",
              "size": 10,
              "solidity": 0.2
             }
            },
            "type": "barpolar"
           }
          ],
          "carpet": [
           {
            "aaxis": {
             "endlinecolor": "#2a3f5f",
             "gridcolor": "white",
             "linecolor": "white",
             "minorgridcolor": "white",
             "startlinecolor": "#2a3f5f"
            },
            "baxis": {
             "endlinecolor": "#2a3f5f",
             "gridcolor": "white",
             "linecolor": "white",
             "minorgridcolor": "white",
             "startlinecolor": "#2a3f5f"
            },
            "type": "carpet"
           }
          ],
          "choropleth": [
           {
            "colorbar": {
             "outlinewidth": 0,
             "ticks": ""
            },
            "type": "choropleth"
           }
          ],
          "contour": [
           {
            "colorbar": {
             "outlinewidth": 0,
             "ticks": ""
            },
            "colorscale": [
             [
              0,
              "#0d0887"
             ],
             [
              0.1111111111111111,
              "#46039f"
             ],
             [
              0.2222222222222222,
              "#7201a8"
             ],
             [
              0.3333333333333333,
              "#9c179e"
             ],
             [
              0.4444444444444444,
              "#bd3786"
             ],
             [
              0.5555555555555556,
              "#d8576b"
             ],
             [
              0.6666666666666666,
              "#ed7953"
             ],
             [
              0.7777777777777778,
              "#fb9f3a"
             ],
             [
              0.8888888888888888,
              "#fdca26"
             ],
             [
              1,
              "#f0f921"
             ]
            ],
            "type": "contour"
           }
          ],
          "contourcarpet": [
           {
            "colorbar": {
             "outlinewidth": 0,
             "ticks": ""
            },
            "type": "contourcarpet"
           }
          ],
          "heatmap": [
           {
            "colorbar": {
             "outlinewidth": 0,
             "ticks": ""
            },
            "colorscale": [
             [
              0,
              "#0d0887"
             ],
             [
              0.1111111111111111,
              "#46039f"
             ],
             [
              0.2222222222222222,
              "#7201a8"
             ],
             [
              0.3333333333333333,
              "#9c179e"
             ],
             [
              0.4444444444444444,
              "#bd3786"
             ],
             [
              0.5555555555555556,
              "#d8576b"
             ],
             [
              0.6666666666666666,
              "#ed7953"
             ],
             [
              0.7777777777777778,
              "#fb9f3a"
             ],
             [
              0.8888888888888888,
              "#fdca26"
             ],
             [
              1,
              "#f0f921"
             ]
            ],
            "type": "heatmap"
           }
          ],
          "heatmapgl": [
           {
            "colorbar": {
             "outlinewidth": 0,
             "ticks": ""
            },
            "colorscale": [
             [
              0,
              "#0d0887"
             ],
             [
              0.1111111111111111,
              "#46039f"
             ],
             [
              0.2222222222222222,
              "#7201a8"
             ],
             [
              0.3333333333333333,
              "#9c179e"
             ],
             [
              0.4444444444444444,
              "#bd3786"
             ],
             [
              0.5555555555555556,
              "#d8576b"
             ],
             [
              0.6666666666666666,
              "#ed7953"
             ],
             [
              0.7777777777777778,
              "#fb9f3a"
             ],
             [
              0.8888888888888888,
              "#fdca26"
             ],
             [
              1,
              "#f0f921"
             ]
            ],
            "type": "heatmapgl"
           }
          ],
          "histogram": [
           {
            "marker": {
             "pattern": {
              "fillmode": "overlay",
              "size": 10,
              "solidity": 0.2
             }
            },
            "type": "histogram"
           }
          ],
          "histogram2d": [
           {
            "colorbar": {
             "outlinewidth": 0,
             "ticks": ""
            },
            "colorscale": [
             [
              0,
              "#0d0887"
             ],
             [
              0.1111111111111111,
              "#46039f"
             ],
             [
              0.2222222222222222,
              "#7201a8"
             ],
             [
              0.3333333333333333,
              "#9c179e"
             ],
             [
              0.4444444444444444,
              "#bd3786"
             ],
             [
              0.5555555555555556,
              "#d8576b"
             ],
             [
              0.6666666666666666,
              "#ed7953"
             ],
             [
              0.7777777777777778,
              "#fb9f3a"
             ],
             [
              0.8888888888888888,
              "#fdca26"
             ],
             [
              1,
              "#f0f921"
             ]
            ],
            "type": "histogram2d"
           }
          ],
          "histogram2dcontour": [
           {
            "colorbar": {
             "outlinewidth": 0,
             "ticks": ""
            },
            "colorscale": [
             [
              0,
              "#0d0887"
             ],
             [
              0.1111111111111111,
              "#46039f"
             ],
             [
              0.2222222222222222,
              "#7201a8"
             ],
             [
              0.3333333333333333,
              "#9c179e"
             ],
             [
              0.4444444444444444,
              "#bd3786"
             ],
             [
              0.5555555555555556,
              "#d8576b"
             ],
             [
              0.6666666666666666,
              "#ed7953"
             ],
             [
              0.7777777777777778,
              "#fb9f3a"
             ],
             [
              0.8888888888888888,
              "#fdca26"
             ],
             [
              1,
              "#f0f921"
             ]
            ],
            "type": "histogram2dcontour"
           }
          ],
          "mesh3d": [
           {
            "colorbar": {
             "outlinewidth": 0,
             "ticks": ""
            },
            "type": "mesh3d"
           }
          ],
          "parcoords": [
           {
            "line": {
             "colorbar": {
              "outlinewidth": 0,
              "ticks": ""
             }
            },
            "type": "parcoords"
           }
          ],
          "pie": [
           {
            "automargin": true,
            "type": "pie"
           }
          ],
          "scatter": [
           {
            "fillpattern": {
             "fillmode": "overlay",
             "size": 10,
             "solidity": 0.2
            },
            "type": "scatter"
           }
          ],
          "scatter3d": [
           {
            "line": {
             "colorbar": {
              "outlinewidth": 0,
              "ticks": ""
             }
            },
            "marker": {
             "colorbar": {
              "outlinewidth": 0,
              "ticks": ""
             }
            },
            "type": "scatter3d"
           }
          ],
          "scattercarpet": [
           {
            "marker": {
             "colorbar": {
              "outlinewidth": 0,
              "ticks": ""
             }
            },
            "type": "scattercarpet"
           }
          ],
          "scattergeo": [
           {
            "marker": {
             "colorbar": {
              "outlinewidth": 0,
              "ticks": ""
             }
            },
            "type": "scattergeo"
           }
          ],
          "scattergl": [
           {
            "marker": {
             "colorbar": {
              "outlinewidth": 0,
              "ticks": ""
             }
            },
            "type": "scattergl"
           }
          ],
          "scattermapbox": [
           {
            "marker": {
             "colorbar": {
              "outlinewidth": 0,
              "ticks": ""
             }
            },
            "type": "scattermapbox"
           }
          ],
          "scatterpolar": [
           {
            "marker": {
             "colorbar": {
              "outlinewidth": 0,
              "ticks": ""
             }
            },
            "type": "scatterpolar"
           }
          ],
          "scatterpolargl": [
           {
            "marker": {
             "colorbar": {
              "outlinewidth": 0,
              "ticks": ""
             }
            },
            "type": "scatterpolargl"
           }
          ],
          "scatterternary": [
           {
            "marker": {
             "colorbar": {
              "outlinewidth": 0,
              "ticks": ""
             }
            },
            "type": "scatterternary"
           }
          ],
          "surface": [
           {
            "colorbar": {
             "outlinewidth": 0,
             "ticks": ""
            },
            "colorscale": [
             [
              0,
              "#0d0887"
             ],
             [
              0.1111111111111111,
              "#46039f"
             ],
             [
              0.2222222222222222,
              "#7201a8"
             ],
             [
              0.3333333333333333,
              "#9c179e"
             ],
             [
              0.4444444444444444,
              "#bd3786"
             ],
             [
              0.5555555555555556,
              "#d8576b"
             ],
             [
              0.6666666666666666,
              "#ed7953"
             ],
             [
              0.7777777777777778,
              "#fb9f3a"
             ],
             [
              0.8888888888888888,
              "#fdca26"
             ],
             [
              1,
              "#f0f921"
             ]
            ],
            "type": "surface"
           }
          ],
          "table": [
           {
            "cells": {
             "fill": {
              "color": "#EBF0F8"
             },
             "line": {
              "color": "white"
             }
            },
            "header": {
             "fill": {
              "color": "#C8D4E3"
             },
             "line": {
              "color": "white"
             }
            },
            "type": "table"
           }
          ]
         },
         "layout": {
          "annotationdefaults": {
           "arrowcolor": "#2a3f5f",
           "arrowhead": 0,
           "arrowwidth": 1
          },
          "autotypenumbers": "strict",
          "coloraxis": {
           "colorbar": {
            "outlinewidth": 0,
            "ticks": ""
           }
          },
          "colorscale": {
           "diverging": [
            [
             0,
             "#8e0152"
            ],
            [
             0.1,
             "#c51b7d"
            ],
            [
             0.2,
             "#de77ae"
            ],
            [
             0.3,
             "#f1b6da"
            ],
            [
             0.4,
             "#fde0ef"
            ],
            [
             0.5,
             "#f7f7f7"
            ],
            [
             0.6,
             "#e6f5d0"
            ],
            [
             0.7,
             "#b8e186"
            ],
            [
             0.8,
             "#7fbc41"
            ],
            [
             0.9,
             "#4d9221"
            ],
            [
             1,
             "#276419"
            ]
           ],
           "sequential": [
            [
             0,
             "#0d0887"
            ],
            [
             0.1111111111111111,
             "#46039f"
            ],
            [
             0.2222222222222222,
             "#7201a8"
            ],
            [
             0.3333333333333333,
             "#9c179e"
            ],
            [
             0.4444444444444444,
             "#bd3786"
            ],
            [
             0.5555555555555556,
             "#d8576b"
            ],
            [
             0.6666666666666666,
             "#ed7953"
            ],
            [
             0.7777777777777778,
             "#fb9f3a"
            ],
            [
             0.8888888888888888,
             "#fdca26"
            ],
            [
             1,
             "#f0f921"
            ]
           ],
           "sequentialminus": [
            [
             0,
             "#0d0887"
            ],
            [
             0.1111111111111111,
             "#46039f"
            ],
            [
             0.2222222222222222,
             "#7201a8"
            ],
            [
             0.3333333333333333,
             "#9c179e"
            ],
            [
             0.4444444444444444,
             "#bd3786"
            ],
            [
             0.5555555555555556,
             "#d8576b"
            ],
            [
             0.6666666666666666,
             "#ed7953"
            ],
            [
             0.7777777777777778,
             "#fb9f3a"
            ],
            [
             0.8888888888888888,
             "#fdca26"
            ],
            [
             1,
             "#f0f921"
            ]
           ]
          },
          "colorway": [
           "#636efa",
           "#EF553B",
           "#00cc96",
           "#ab63fa",
           "#FFA15A",
           "#19d3f3",
           "#FF6692",
           "#B6E880",
           "#FF97FF",
           "#FECB52"
          ],
          "font": {
           "color": "#2a3f5f"
          },
          "geo": {
           "bgcolor": "white",
           "lakecolor": "white",
           "landcolor": "#E5ECF6",
           "showlakes": true,
           "showland": true,
           "subunitcolor": "white"
          },
          "hoverlabel": {
           "align": "left"
          },
          "hovermode": "closest",
          "mapbox": {
           "style": "light"
          },
          "paper_bgcolor": "white",
          "plot_bgcolor": "#E5ECF6",
          "polar": {
           "angularaxis": {
            "gridcolor": "white",
            "linecolor": "white",
            "ticks": ""
           },
           "bgcolor": "#E5ECF6",
           "radialaxis": {
            "gridcolor": "white",
            "linecolor": "white",
            "ticks": ""
           }
          },
          "scene": {
           "xaxis": {
            "backgroundcolor": "#E5ECF6",
            "gridcolor": "white",
            "gridwidth": 2,
            "linecolor": "white",
            "showbackground": true,
            "ticks": "",
            "zerolinecolor": "white"
           },
           "yaxis": {
            "backgroundcolor": "#E5ECF6",
            "gridcolor": "white",
            "gridwidth": 2,
            "linecolor": "white",
            "showbackground": true,
            "ticks": "",
            "zerolinecolor": "white"
           },
           "zaxis": {
            "backgroundcolor": "#E5ECF6",
            "gridcolor": "white",
            "gridwidth": 2,
            "linecolor": "white",
            "showbackground": true,
            "ticks": "",
            "zerolinecolor": "white"
           }
          },
          "shapedefaults": {
           "line": {
            "color": "#2a3f5f"
           }
          },
          "ternary": {
           "aaxis": {
            "gridcolor": "white",
            "linecolor": "white",
            "ticks": ""
           },
           "baxis": {
            "gridcolor": "white",
            "linecolor": "white",
            "ticks": ""
           },
           "bgcolor": "#E5ECF6",
           "caxis": {
            "gridcolor": "white",
            "linecolor": "white",
            "ticks": ""
           }
          },
          "title": {
           "x": 0.05
          },
          "xaxis": {
           "automargin": true,
           "gridcolor": "white",
           "linecolor": "white",
           "ticks": "",
           "title": {
            "standoff": 15
           },
           "zerolinecolor": "white",
           "zerolinewidth": 2
          },
          "yaxis": {
           "automargin": true,
           "gridcolor": "white",
           "linecolor": "white",
           "ticks": "",
           "title": {
            "standoff": 15
           },
           "zerolinecolor": "white",
           "zerolinewidth": 2
          }
         }
        },
        "title": {
         "text": "Cambios de postura"
        },
        "width": 1600
       }
      }
     },
     "metadata": {},
     "output_type": "display_data"
    }
   ],
   "source": [
    "# Nodos de entrada y salida\n",
    "source_nodes = [i for i in range(12) for _ in range(6)]\n",
    "target_nodes = list(range(6, 12)) * 6 + list(range(12, 18)) * 6\n",
    "\n",
    "# Etiquetas\n",
    "labels = ['Sel 1','Sel 2','Sel 3','Sel 4','Sel 5','Sel 6']*3\n",
    "\n",
    "# Generación del gráfico\n",
    "scale=1\n",
    "fig = go.Figure(go.Sankey(\n",
    "    node=dict(\n",
    "        pad=25*scale,\n",
    "        thickness=25*scale,\n",
    "        line=dict(color=\"black\", width=1*scale),\n",
    "        label=labels,\n",
    "    ),\n",
    "    link=dict(\n",
    "        source=source_nodes, \n",
    "        target=target_nodes,\n",
    "        value=scores,\n",
    "    )\n",
    "))\n",
    "\n",
    "fig.update_layout(\n",
    "    title=\"Cambios de postura\",\n",
    "    font=dict(size=20*scale),\n",
    "    height=1000*scale, \n",
    "    width=1600*scale\n",
    ")\n",
    "\n",
    "fig.show()"
   ]
  }
 ],
 "metadata": {
  "kernelspec": {
   "display_name": "Python 3 (ipykernel)",
   "language": "python",
   "name": "python3"
  },
  "language_info": {
   "codemirror_mode": {
    "name": "ipython",
    "version": 3
   },
   "file_extension": ".py",
   "mimetype": "text/x-python",
   "name": "python",
   "nbconvert_exporter": "python",
   "pygments_lexer": "ipython3",
   "version": "3.11.4"
  }
 },
 "nbformat": 4,
 "nbformat_minor": 5
}
